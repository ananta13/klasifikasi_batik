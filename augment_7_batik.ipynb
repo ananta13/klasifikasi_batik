{
 "cells": [
  {
   "cell_type": "code",
   "execution_count": 3,
   "metadata": {},
   "outputs": [],
   "source": [
    "import os\n",
    "import Augmentor"
   ]
  },
  {
   "cell_type": "code",
   "execution_count": 7,
   "metadata": {},
   "outputs": [
    {
     "name": "stdout",
     "output_type": "stream",
     "text": [
      "dataset_6_kelas/Gedhangan\n",
      "Initialised with 2 image(s) found.\n",
      "Output directory set to dataset_6_kelas/Gedhangan\\aug_dataset_6_kelas/Gedhangan."
     ]
    },
    {
     "name": "stderr",
     "output_type": "stream",
     "text": [
      "Processing <PIL.Image.Image image mode=RGB size=914x929 at 0x247EF3F7ED0>: 100%|██████████| 100/100 [00:03<00:00, 29.12 Samples/s]\n"
     ]
    },
    {
     "name": "stdout",
     "output_type": "stream",
     "text": [
      "dataset_6_kelas/Kawung Nitik\n",
      "Initialised with 2 image(s) found.\n",
      "Output directory set to dataset_6_kelas/Kawung Nitik\\aug_dataset_6_kelas/Kawung Nitik."
     ]
    },
    {
     "name": "stderr",
     "output_type": "stream",
     "text": [
      "Processing <PIL.Image.Image image mode=RGB size=977x994 at 0x247EF77B450>: 100%|██████████| 100/100 [00:04<00:00, 23.96 Samples/s]\n"
     ]
    },
    {
     "name": "stdout",
     "output_type": "stream",
     "text": [
      "dataset_6_kelas/Sekar Cengkeh\n",
      "Initialised with 2 image(s) found.\n",
      "Output directory set to dataset_6_kelas/Sekar Cengkeh\\aug_dataset_6_kelas/Sekar Cengkeh."
     ]
    },
    {
     "name": "stderr",
     "output_type": "stream",
     "text": [
      "Processing <PIL.Image.Image image mode=RGB size=942x958 at 0x247EF77AF90>: 100%|██████████| 100/100 [00:04<00:00, 22.36 Samples/s]\n"
     ]
    },
    {
     "name": "stdout",
     "output_type": "stream",
     "text": [
      "dataset_6_kelas/Sekar Kemuning\n",
      "Initialised with 2 image(s) found.\n",
      "Output directory set to dataset_6_kelas/Sekar Kemuning\\aug_dataset_6_kelas/Sekar Kemuning."
     ]
    },
    {
     "name": "stderr",
     "output_type": "stream",
     "text": [
      "Processing <PIL.Image.Image image mode=RGB size=975x992 at 0x247EF6A00D0>: 100%|██████████| 100/100 [00:04<00:00, 21.54 Samples/s]\n"
     ]
    },
    {
     "name": "stdout",
     "output_type": "stream",
     "text": [
      "dataset_6_kelas/Sekar Liring\n",
      "Initialised with 2 image(s) found.\n",
      "Output directory set to dataset_6_kelas/Sekar Liring\\aug_dataset_6_kelas/Sekar Liring."
     ]
    },
    {
     "name": "stderr",
     "output_type": "stream",
     "text": [
      "Processing <PIL.Image.Image image mode=RGB size=951x972 at 0x247EF7B90D0>: 100%|██████████| 100/100 [00:04<00:00, 24.05 Samples/s]\n"
     ]
    },
    {
     "name": "stdout",
     "output_type": "stream",
     "text": [
      "dataset_6_kelas/Sekar Menur\n",
      "Initialised with 2 image(s) found.\n",
      "Output directory set to dataset_6_kelas/Sekar Menur\\aug_dataset_6_kelas/Sekar Menur."
     ]
    },
    {
     "name": "stderr",
     "output_type": "stream",
     "text": [
      "Processing <PIL.Image.Image image mode=RGB size=974x985 at 0x247EF793490>: 100%|██████████| 100/100 [00:03<00:00, 25.13 Samples/s]\n"
     ]
    },
    {
     "name": "stdout",
     "output_type": "stream",
     "text": [
      "dataset_6_kelas/Sekar Randhu\n",
      "Initialised with 2 image(s) found.\n",
      "Output directory set to dataset_6_kelas/Sekar Randhu\\aug_dataset_6_kelas/Sekar Randhu."
     ]
    },
    {
     "name": "stderr",
     "output_type": "stream",
     "text": [
      "Processing <PIL.Image.Image image mode=RGB size=969x985 at 0x247EF788950>: 100%|██████████| 100/100 [00:04<00:00, 22.28 Samples/s]\n"
     ]
    }
   ],
   "source": [
    "# Fungsi untuk membuat augmentasi data\n",
    "def create_augmented_data(input_dir, output_dir, num_samples):\n",
    "    # Inisialisasi Augmentor dengan direktori input dan output\n",
    "    p = Augmentor.Pipeline(input_dir, output_dir)\n",
    "    \n",
    "    # Tambahkan operasi augmentasi yang diinginkan\n",
    "    # Misalnya:\n",
    "    # p.zoom(probability=0.5, min_factor=0.8, max_factor=1.5)\n",
    "    p.flip_random(probability=0.5)\n",
    "    p.random_brightness(probability=0.5, min_factor=0.2, max_factor=0.9)\n",
    "    p.random_contrast(probability=0.5, min_factor=0.2, max_factor=0.9)\n",
    "    p.shear(probability=0.5, max_shear_left=5, max_shear_right=5)\n",
    "    # p.crop_random(probability=0.5, percentage_area=0.7)\n",
    "    p.random_distortion(probability=1, grid_width=5, grid_height=5, magnitude=5)\n",
    "        \n",
    "    # Generate augmented data\n",
    "    p.sample(num_samples)\n",
    "\n",
    "# Contoh penggunaan\n",
    "if __name__ == \"__main__\":\n",
    "    # Direktori input dan output\n",
    "    input_dir = \"dataset_6_kelas\"\n",
    "    output_dir = \"aug_dataset_6_kelas\"\n",
    "    \n",
    "    # List kelas\n",
    "    classes = [\"Gedhangan\", \"Kawung Nitik\", \"Sekar Cengkeh\", \"Sekar Kemuning\", \"Sekar Liring\", \"Sekar Menur\", \"Sekar Randhu\"]\n",
    "    \n",
    "    # Jumlah sampel yang ingin dihasilkan dari setiap kelas setelah augmentasi\n",
    "    num_samples = 100\n",
    "    \n",
    "    # Augmentasi data untuk setiap kelas\n",
    "    for cls in classes:\n",
    "        print(os.path.join(input_dir, cls).replace(\"\\\\\",\"/\"))\n",
    "        create_augmented_data(os.path.join(input_dir, cls).replace(\"\\\\\",\"/\"), os.path.join(output_dir, cls).replace(\"\\\\\",\"/\"), num_samples)\n"
   ]
  }
 ],
 "metadata": {
  "kernelspec": {
   "display_name": "Python 3",
   "language": "python",
   "name": "python3"
  },
  "language_info": {
   "codemirror_mode": {
    "name": "ipython",
    "version": 3
   },
   "file_extension": ".py",
   "mimetype": "text/x-python",
   "name": "python",
   "nbconvert_exporter": "python",
   "pygments_lexer": "ipython3",
   "version": "3.11.4"
  }
 },
 "nbformat": 4,
 "nbformat_minor": 2
}
